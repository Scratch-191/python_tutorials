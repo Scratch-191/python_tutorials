{
 "cells": [
  {
   "cell_type": "code",
   "execution_count": 8,
   "id": "f8382a75-6c23-410a-a5ed-14effdcd140b",
   "metadata": {},
   "outputs": [
    {
     "name": "stdin",
     "output_type": "stream",
     "text": [
      "Enter the first number:  23\n",
      "Enter the second number:  123\n"
     ]
    },
    {
     "name": "stdout",
     "output_type": "stream",
     "text": [
      "The sum of 23.0 and 123.0 is: 146.0\n"
     ]
    }
   ],
   "source": [
    "# Get input from the user\n",
    "num1 = float(input(\"Enter the first number: \"))\n",
    "num2 = float(input(\"Enter the second number: \"))\n",
    "\n",
    "# Add the numbers\n",
    "sum_result = num1 + num2\n",
    "\n",
    "# Display the result\n",
    "print(f\"The sum of {num1} and {num2} is: {sum_result}\")\n"
   ]
  },
  {
   "cell_type": "markdown",
   "id": "035135e2-c039-4f4f-a3a0-3bc4f568cd09",
   "metadata": {},
   "source": [
    "# Basic Python Codes"
   ]
  },
  {
   "cell_type": "markdown",
   "id": "06ffbdf8-ec20-44bd-98ae-ed9dbc26048e",
   "metadata": {},
   "source": [
    "###Performing The Hello World Ritual "
   ]
  },
  {
   "cell_type": "code",
   "execution_count": 4,
   "id": "27f6149e-2fe1-45c8-892d-a274d3c4a198",
   "metadata": {},
   "outputs": [
    {
     "name": "stdout",
     "output_type": "stream",
     "text": [
      "Riding with the storm \n"
     ]
    }
   ],
   "source": [
    "variable=\"Riding with the storm \"\n",
    "print(variable)"
   ]
  },
  {
   "cell_type": "code",
   "execution_count": 6,
   "id": "463db736-cc03-4f02-a1d3-c24bb47ef20e",
   "metadata": {},
   "outputs": [
    {
     "name": "stdout",
     "output_type": "stream",
     "text": [
      "Riding with the storm \n"
     ]
    }
   ],
   "source": [
    "print(variable)"
   ]
  },
  {
   "cell_type": "code",
   "execution_count": 7,
   "id": "8af9580e-e483-492b-bfa1-d05333487320",
   "metadata": {},
   "outputs": [
    {
     "name": "stdout",
     "output_type": "stream",
     "text": [
      "<class 'str'>\n"
     ]
    }
   ],
   "source": [
    "print(type(variable))"
   ]
  },
  {
   "cell_type": "code",
   "execution_count": 9,
   "id": "f6817fbb-44bf-4824-a874-6ffd47ed9b24",
   "metadata": {},
   "outputs": [
    {
     "name": "stdin",
     "output_type": "stream",
     "text": [
      "Enter the first number:  34\n",
      "Enter the second number:  234\n"
     ]
    },
    {
     "name": "stdout",
     "output_type": "stream",
     "text": [
      "The sum of 34.0 and 234.0 is: 268.0\n"
     ]
    }
   ],
   "source": [
    "\n",
    "num1 = float(input(\"Enter the first number: \"))\n",
    "num2 = float(input(\"Enter the second number: \"))\n",
    "\n",
    "\n",
    "sum_result = num1 + num2\n",
    "\n",
    "\n",
    "print(f\"The sum of {num1} and {num2} is: {sum_result}\")"
   ]
  },
  {
   "cell_type": "code",
   "execution_count": 17,
   "id": "50c7f7a1-055d-4bbf-861e-1bd26c61ca02",
   "metadata": {},
   "outputs": [
    {
     "name": "stdout",
     "output_type": "stream",
     "text": [
      "20\n",
      "male\n",
      "Samuel\n",
      "True\n"
     ]
    }
   ],
   "source": [
    "age = 20\n",
    "gender = \"male\"\n",
    "name = \"Samuel\"\n",
    "smart= True\n",
    "print(str(age))\n",
    "print(str(gender))\n",
    "print(str(name))\n",
    "print(str(smart))"
   ]
  },
  {
   "cell_type": "code",
   "execution_count": 18,
   "id": "4be58d35-8759-4868-b96e-0e514ab5e708",
   "metadata": {},
   "outputs": [
    {
     "name": "stdout",
     "output_type": "stream",
     "text": [
      "Samuel is a male of 20 years \n"
     ]
    }
   ],
   "source": [
    "print(f\"{name} is a {gender} of {age} years \")"
   ]
  },
  {
   "cell_type": "code",
   "execution_count": 22,
   "id": "f13e4894-b5a5-422a-a79b-1540bf1afed0",
   "metadata": {},
   "outputs": [
    {
     "name": "stdout",
     "output_type": "stream",
     "text": [
      "The result of multiplying 5.0 and 2.0 and dividing by 3.0 is: 3.3333333333333335\n"
     ]
    }
   ],
   "source": [
    "divider = 3.0\n",
    "def multiply_and_divide(num1, num2):\n",
    "    \n",
    "    product = num1 * num2\n",
    "    \n",
    "    # Divide the product by the variable defined outside the function\n",
    "    result = product / divider\n",
    "    \n",
    "    return result\n",
    "variable1 = 5.0\n",
    "variable2 = 2.0\n",
    "\n",
    "# Call the function with the two numerical variables\n",
    "output_result = multiply_and_divide(variable1, variable2)\n",
    "\n",
    "# Print the result\n",
    "print(f\"The result of multiplying {variable1} and {variable2} and dividing by {divider} is: {output_result}\")\n"
   ]
  },
  {
   "cell_type": "code",
   "execution_count": 23,
   "id": "312c4834-31a5-42c2-b51f-160ae55f9e75",
   "metadata": {},
   "outputs": [
    {
     "name": "stdin",
     "output_type": "stream",
     "text": [
      "Enter a number:  3\n"
     ]
    },
    {
     "name": "stdout",
     "output_type": "stream",
     "text": [
      "The result of squaring 3.0 and adding 3 is: 12.0\n"
     ]
    }
   ],
   "source": [
    "def square_and_add_three(user_input):\n",
    "    squared_result = user_input ** 2\n",
    "    \n",
    "   \n",
    "    final_result = squared_result + 3\n",
    "    \n",
    "    return final_result\n",
    "\n",
    "\n",
    "user_number = float(input(\"Enter a number: \"))\n",
    "\n",
    "output_result = square_and_add_three(user_number)\n",
    "\n",
    "\n",
    "print(f\"The result of squaring {user_number} and adding 3 is: {output_result}\")\n"
   ]
  },
  {
   "cell_type": "code",
   "execution_count": 26,
   "id": "327190d0-76c3-47c9-911b-a475323dcdd5",
   "metadata": {},
   "outputs": [
    {
     "data": {
      "text/plain": [
       "12"
      ]
     },
     "execution_count": 26,
     "metadata": {},
     "output_type": "execute_result"
    }
   ],
   "source": [
    "def sqFUN(x=5):\n",
    "    return x**2 +3\n",
    "sqFUN(3)"
   ]
  },
  {
   "cell_type": "code",
   "execution_count": 30,
   "id": "18980801-cc47-421d-a1de-e3d6c69b4ae1",
   "metadata": {},
   "outputs": [
    {
     "name": "stdin",
     "output_type": "stream",
     "text": [
      "Enter the first:  32\n",
      "Enter the second :  3\n"
     ]
    },
    {
     "name": "stdout",
     "output_type": "stream",
     "text": [
      "The square root of the sum of 32.0 and 3.0 is: 2.6457513110645907\n"
     ]
    }
   ],
   "source": [
    "import math\n",
    "\n",
    "def square(p1, p2):\n",
    "    return math.sqrt(p1 + p2)\n",
    "\n",
    "\n",
    "input_p1 = float(input(\"Enter the first: \"))\n",
    "input_p2 = float(input(\"Enter the second : \"))\n",
    "\n",
    "print(f\"The square root of the sum of {input_p1} and {input_p2} is: {square_root_of_addition(input_param1, input_param2)}\")\n"
   ]
  },
  {
   "cell_type": "code",
   "execution_count": null,
   "id": "bee255a3-70fe-4a96-b8d7-52d50dd83625",
   "metadata": {},
   "outputs": [],
   "source": []
  }
 ],
 "metadata": {
  "kernelspec": {
   "display_name": "Python 3 (ipykernel)",
   "language": "python",
   "name": "python3"
  },
  "language_info": {
   "codemirror_mode": {
    "name": "ipython",
    "version": 3
   },
   "file_extension": ".py",
   "mimetype": "text/x-python",
   "name": "python",
   "nbconvert_exporter": "python",
   "pygments_lexer": "ipython3",
   "version": "3.9.7"
  }
 },
 "nbformat": 4,
 "nbformat_minor": 5
}
